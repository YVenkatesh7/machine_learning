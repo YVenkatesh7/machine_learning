{
 "cells": [
  {
   "cell_type": "markdown",
   "metadata": {},
   "source": [
    "## Linear Regression"
   ]
  },
  {
   "cell_type": "code",
   "execution_count": 29,
   "metadata": {},
   "outputs": [],
   "source": [
    "import numpy as np\n",
    "import matplotlib.pyplot as plt\n"
   ]
  },
  {
   "cell_type": "code",
   "execution_count": 37,
   "metadata": {},
   "outputs": [],
   "source": [
    "X = np.random.randn(100,1)\n"
   ]
  },
  {
   "cell_type": "code",
   "execution_count": 54,
   "metadata": {},
   "outputs": [],
   "source": [
    "y = 4 + 3*X + np.random.randn(100,1)"
   ]
  },
  {
   "cell_type": "code",
   "execution_count": 55,
   "metadata": {},
   "outputs": [],
   "source": [
    "X_b = np.c_[np.ones((100,1)),X] "
   ]
  },
  {
   "cell_type": "code",
   "execution_count": 56,
   "metadata": {},
   "outputs": [
    {
     "data": {
      "text/plain": [
       "array([[4.00546638],\n",
       "       [2.893635  ]])"
      ]
     },
     "execution_count": 56,
     "metadata": {},
     "output_type": "execute_result"
    }
   ],
   "source": [
    "theta_best = np.linalg.inv(X_b.T.dot(X_b)).dot(X_b.T).dot(y)\n",
    "theta_best"
   ]
  },
  {
   "cell_type": "code",
   "execution_count": 57,
   "metadata": {},
   "outputs": [
    {
     "data": {
      "text/plain": [
       "array([[ 4.60532767],\n",
       "       [ 9.35149483],\n",
       "       [ 4.72016356],\n",
       "       [ 9.86742888],\n",
       "       [ 3.54157615],\n",
       "       [ 1.4025616 ],\n",
       "       [ 6.74704081],\n",
       "       [ 2.97708083],\n",
       "       [ 1.6618365 ],\n",
       "       [ 8.90073039],\n",
       "       [ 8.08814724],\n",
       "       [ 1.76222645],\n",
       "       [ 0.24957041],\n",
       "       [ 2.54378208],\n",
       "       [ 3.63763255],\n",
       "       [-2.76376216],\n",
       "       [ 9.04316545],\n",
       "       [ 4.38845363],\n",
       "       [ 6.36478743],\n",
       "       [-4.02533163],\n",
       "       [ 3.77648437],\n",
       "       [ 7.24791914],\n",
       "       [ 6.07718837],\n",
       "       [ 8.6595285 ],\n",
       "       [ 1.72830195],\n",
       "       [-1.98696911],\n",
       "       [ 8.25795404],\n",
       "       [ 1.06360072],\n",
       "       [10.26509552],\n",
       "       [ 0.41655681],\n",
       "       [10.0729009 ],\n",
       "       [ 2.40261705],\n",
       "       [ 5.93052727],\n",
       "       [ 3.62483202],\n",
       "       [ 5.60036013],\n",
       "       [ 2.77468664],\n",
       "       [ 3.97865079],\n",
       "       [ 6.45641869],\n",
       "       [ 3.05492731],\n",
       "       [ 4.22672876],\n",
       "       [ 4.66454046],\n",
       "       [ 6.35997986],\n",
       "       [ 5.06323811],\n",
       "       [ 6.82101276],\n",
       "       [ 8.47188955],\n",
       "       [-0.76574713],\n",
       "       [-1.45133115],\n",
       "       [ 4.12957399],\n",
       "       [ 2.13256695],\n",
       "       [ 5.59829018],\n",
       "       [ 6.30599332],\n",
       "       [ 6.72403246],\n",
       "       [ 4.28440758],\n",
       "       [ 6.70752376],\n",
       "       [ 0.23037695],\n",
       "       [ 7.48557067],\n",
       "       [ 5.80301677],\n",
       "       [ 2.92021602],\n",
       "       [ 3.67758489],\n",
       "       [ 5.34182207],\n",
       "       [ 0.99649418],\n",
       "       [ 7.53458943],\n",
       "       [ 5.31961692],\n",
       "       [ 3.7118212 ],\n",
       "       [ 2.83743527],\n",
       "       [-0.73186341],\n",
       "       [ 7.21688492],\n",
       "       [ 5.53651147],\n",
       "       [ 3.84187351],\n",
       "       [ 3.90607919],\n",
       "       [ 6.41662548],\n",
       "       [ 5.43952933],\n",
       "       [ 3.85931333],\n",
       "       [ 2.25208953],\n",
       "       [ 1.82392898],\n",
       "       [ 0.94624758],\n",
       "       [ 5.72959318],\n",
       "       [ 6.61270896],\n",
       "       [-2.19287617],\n",
       "       [ 9.54448379],\n",
       "       [ 6.01498766],\n",
       "       [ 2.62104323],\n",
       "       [ 8.28463704],\n",
       "       [ 1.37115234],\n",
       "       [ 6.40933479],\n",
       "       [ 7.00171932],\n",
       "       [ 2.33574416],\n",
       "       [ 4.89190295],\n",
       "       [-1.29422498],\n",
       "       [ 2.18722931],\n",
       "       [ 2.1345058 ],\n",
       "       [ 5.16898492],\n",
       "       [ 3.20264279],\n",
       "       [10.77778529],\n",
       "       [ 2.36114843],\n",
       "       [ 4.46226587],\n",
       "       [ 3.20907876],\n",
       "       [ 3.96742453],\n",
       "       [ 6.92340631],\n",
       "       [ 3.47170806]])"
      ]
     },
     "execution_count": 57,
     "metadata": {},
     "output_type": "execute_result"
    }
   ],
   "source": [
    "y_predict = X_b.dot(theta_best)\n",
    "y_predict"
   ]
  },
  {
   "cell_type": "code",
   "execution_count": 58,
   "metadata": {},
   "outputs": [
    {
     "name": "stdout",
     "output_type": "stream",
     "text": [
      "[[ 5.04275629]\n",
      " [ 9.76562489]\n",
      " [ 4.26297176]\n",
      " [10.63771006]\n",
      " [ 4.65487852]\n",
      " [ 0.67217732]\n",
      " [ 7.58943268]\n",
      " [ 2.35971016]\n",
      " [ 0.71180949]\n",
      " [ 8.65795196]\n",
      " [ 8.73444902]\n",
      " [ 1.16952144]\n",
      " [ 1.68808046]\n",
      " [ 3.31283346]\n",
      " [ 1.60974186]\n",
      " [-4.07157356]\n",
      " [ 8.92288654]\n",
      " [ 5.94710536]\n",
      " [ 6.26142601]\n",
      " [-3.14311602]\n",
      " [ 2.9373349 ]\n",
      " [ 6.75300397]\n",
      " [ 5.45764988]\n",
      " [ 8.53663274]\n",
      " [ 2.41071648]\n",
      " [-1.50393041]\n",
      " [ 8.24212862]\n",
      " [ 1.37008834]\n",
      " [ 9.6846929 ]\n",
      " [ 0.14362579]\n",
      " [10.20957252]\n",
      " [ 1.57571011]\n",
      " [ 5.13809123]\n",
      " [ 4.56242766]\n",
      " [ 4.48281958]\n",
      " [ 2.43949462]\n",
      " [ 5.30181502]\n",
      " [ 7.96115264]\n",
      " [ 2.33060058]\n",
      " [ 6.38374508]\n",
      " [ 4.23210775]\n",
      " [ 6.09844005]\n",
      " [ 4.68214242]\n",
      " [ 8.36671012]\n",
      " [ 9.39144883]\n",
      " [-0.5234359 ]\n",
      " [-0.20358947]\n",
      " [ 4.5041623 ]\n",
      " [ 2.49086119]\n",
      " [ 5.60383761]\n",
      " [ 4.4222138 ]\n",
      " [ 6.86938556]\n",
      " [ 3.91685796]\n",
      " [ 5.92081615]\n",
      " [-0.89623093]\n",
      " [ 9.86742454]\n",
      " [ 5.63205551]\n",
      " [ 1.38599103]\n",
      " [ 2.75128216]\n",
      " [ 5.78585675]\n",
      " [ 2.57036558]\n",
      " [ 7.66557   ]\n",
      " [ 5.55774515]\n",
      " [ 2.82279441]\n",
      " [ 4.22381734]\n",
      " [-2.03605379]\n",
      " [ 8.80372142]\n",
      " [ 6.2375448 ]\n",
      " [ 2.57812784]\n",
      " [ 4.5879277 ]\n",
      " [ 6.65428163]\n",
      " [ 5.83111691]\n",
      " [ 2.79599674]\n",
      " [ 0.63416564]\n",
      " [ 0.52710102]\n",
      " [ 1.25520838]\n",
      " [ 5.34456862]\n",
      " [ 5.58451001]\n",
      " [-2.04440231]\n",
      " [ 8.18021358]\n",
      " [ 6.26401347]\n",
      " [ 3.65281157]\n",
      " [ 7.54536191]\n",
      " [ 0.28154301]\n",
      " [ 6.25431097]\n",
      " [ 5.62178196]\n",
      " [ 2.28461898]\n",
      " [ 5.86426427]\n",
      " [-1.32294527]\n",
      " [ 3.57565497]\n",
      " [ 2.59943933]\n",
      " [ 4.77375829]\n",
      " [ 2.83071043]\n",
      " [10.9844476 ]\n",
      " [ 4.50558713]\n",
      " [ 3.89221439]\n",
      " [ 2.72455153]\n",
      " [ 4.16605311]\n",
      " [ 6.06913682]\n",
      " [ 3.45662132]]\n"
     ]
    }
   ],
   "source": [
    "print(y)"
   ]
  },
  {
   "cell_type": "code",
   "execution_count": 59,
   "metadata": {},
   "outputs": [
    {
     "data": {
      "text/plain": [
       "[<matplotlib.lines.Line2D at 0x1e7f0491388>]"
      ]
     },
     "execution_count": 59,
     "metadata": {},
     "output_type": "execute_result"
    },
    {
     "data": {
      "image/png": "[encoded data removed]",
      "text/plain": [
       "<Figure size 432x288 with 1 Axes>"
      ]
     },
     "metadata": {
      "needs_background": "light"
     },
     "output_type": "display_data"
    }
   ],
   "source": [
    "plt.plot(X,y,'.')\n",
    "plt.plot(X,y_predict)"
   ]
  },
  {
   "cell_type": "code",
   "execution_count": 69,
   "metadata": {},
   "outputs": [
    {
     "data": {
      "text/plain": [
       "(array([4.00546638]), array([[2.893635]]))"
      ]
     },
     "execution_count": 69,
     "metadata": {},
     "output_type": "execute_result"
    }
   ],
   "source": [
    "# gradient co-efficent\n",
    "from sklearn.linear_model import LinearRegression\n",
    "lin_reg = LinearRegression()\n",
    "lin_reg.fit(X,y)\n",
    "lin_reg.intercept_,lin_reg.coef_"
   ]
  },
  {
   "cell_type": "code",
   "execution_count": 73,
   "metadata": {},
   "outputs": [
    {
     "data": {
      "text/plain": [
       "array([[-1.6231064 ],\n",
       "       [ 0.57883184]])"
      ]
     },
     "execution_count": 73,
     "metadata": {},
     "output_type": "execute_result"
    }
   ],
   "source": [
    "eta = 0.2\n",
    "n_iterations = 1000\n",
    "m =100\n",
    "theta = np.random.randn(2,1)\n",
    "theta"
   ]
  },
  {
   "cell_type": "code",
   "execution_count": 74,
   "metadata": {},
   "outputs": [],
   "source": [
    "for iteration in range(n_iterations):\n",
    "    gradients = 2/m *X_b.T.dot(X_b.dot(theta)-y)\n",
    "    theta = theta - eta*gradients"
   ]
  },
  {
   "cell_type": "code",
   "execution_count": 75,
   "metadata": {},
   "outputs": [
    {
     "data": {
      "text/plain": [
       "array([[4.00546638],\n",
       "       [2.893635  ]])"
      ]
     },
     "execution_count": 75,
     "metadata": {},
     "output_type": "execute_result"
    }
   ],
   "source": [
    "theta"
   ]
  },
  {
   "cell_type": "markdown",
   "metadata": {},
   "source": [
    "## Polynomial Regressions"
   ]
  },
  {
   "cell_type": "code",
   "execution_count": 76,
   "metadata": {},
   "outputs": [],
   "source": [
    "import numpy as np\n",
    "m = 100\n",
    "X = 6 * np.random.rand(m,1)-3\n",
    "y = 0.5 * X**2 + X + 2 + np.random.randn(m,1) # y = ax^2 + bx + c(polunomial formula)"
   ]
  },
  {
   "cell_type": "code",
   "execution_count": 77,
   "metadata": {},
   "outputs": [
    {
     "data": {
      "text/plain": [
       "[<matplotlib.lines.Line2D at 0x1e7f2f2b2c8>]"
      ]
     },
     "execution_count": 77,
     "metadata": {},
     "output_type": "execute_result"
    },
    {
     "data": {
      "image/png": "[encoded data removed]",
      "text/plain": [
       "<Figure size 432x288 with 1 Axes>"
      ]
     },
     "metadata": {
      "needs_background": "light"
     },
     "output_type": "display_data"
    }
   ],
   "source": [
    "import matplotlib.pyplot as plt\n",
    "plt.plot(X,y,'.')"
   ]
  },
  {
   "cell_type": "code",
   "execution_count": 80,
   "metadata": {},
   "outputs": [],
   "source": [
    "from sklearn.preprocessing import PolynomialFeatures\n",
    "poly_features = PolynomialFeatures(degree = 2, include_bias = False)"
   ]
  },
  {
   "cell_type": "code",
   "execution_count": 87,
   "metadata": {},
   "outputs": [],
   "source": [
    "#print(X)\n",
    "X_poly = poly_features.fit_transform(X)\n"
   ]
  },
  {
   "cell_type": "code",
   "execution_count": 91,
   "metadata": {},
   "outputs": [
    {
     "data": {
      "text/plain": [
       "(array([1.99924842]), array([[0.94251772, 0.46569764]]))"
      ]
     },
     "execution_count": 91,
     "metadata": {},
     "output_type": "execute_result"
    }
   ],
   "source": [
    "from sklearn.linear_model import LinearRegression\n",
    "lin_reg = LinearRegression()\n",
    "lin_reg.fit(X_poly,y)\n",
    "lin_reg.intercept_,lin_reg.coef_"
   ]
  },
  {
   "cell_type": "code",
   "execution_count": 99,
   "metadata": {},
   "outputs": [
    {
     "data": {
      "text/plain": [
       "<matplotlib.legend.Legend at 0x1e7f3384d48>"
      ]
     },
     "execution_count": 99,
     "metadata": {},
     "output_type": "execute_result"
    },
    {
     "data": {
      "image/png": "[encoded data removed]",
      "text/plain": [
       "<Figure size 432x288 with 1 Axes>"
      ]
     },
     "metadata": {
      "needs_background": "light"
     },
     "output_type": "display_data"
    }
   ],
   "source": [
    "y_pred = lin_reg.predict(X_poly)\n",
    "plt.scatter(X, y, color = \"red\")\n",
    "plt.plot(X,y_pred,'.',color='green',label=\"Predictions\")\n",
    "plt.legend()"
   ]
  },
  {
   "cell_type": "markdown",
   "metadata": {},
   "source": [
    "## temprature prediction"
   ]
  },
  {
   "cell_type": "code",
   "execution_count": 101,
   "metadata": {},
   "outputs": [
    {
     "data": {
      "text/html": [
       "<div>\n",
       "<style scoped>\n",
       "    .dataframe tbody tr th:only-of-type {\n",
       "        vertical-align: middle;\n",
       "    }\n",
       "\n",
       "    .dataframe tbody tr th {\n",
       "        vertical-align: top;\n",
       "    }\n",
       "\n",
       "    .dataframe thead th {\n",
       "        text-align: right;\n",
       "    }\n",
       "</style>\n",
       "<table border=\"1\" class=\"dataframe\">\n",
       "  <thead>\n",
       "    <tr style=\"text-align: right;\">\n",
       "      <th></th>\n",
       "      <th>sno</th>\n",
       "      <th>Temperature</th>\n",
       "      <th>Pressure</th>\n",
       "    </tr>\n",
       "  </thead>\n",
       "  <tbody>\n",
       "    <tr>\n",
       "      <td>0</td>\n",
       "      <td>1</td>\n",
       "      <td>0</td>\n",
       "      <td>0.0002</td>\n",
       "    </tr>\n",
       "    <tr>\n",
       "      <td>1</td>\n",
       "      <td>2</td>\n",
       "      <td>20</td>\n",
       "      <td>0.0012</td>\n",
       "    </tr>\n",
       "    <tr>\n",
       "      <td>2</td>\n",
       "      <td>3</td>\n",
       "      <td>40</td>\n",
       "      <td>0.0060</td>\n",
       "    </tr>\n",
       "    <tr>\n",
       "      <td>3</td>\n",
       "      <td>4</td>\n",
       "      <td>60</td>\n",
       "      <td>0.0300</td>\n",
       "    </tr>\n",
       "    <tr>\n",
       "      <td>4</td>\n",
       "      <td>5</td>\n",
       "      <td>80</td>\n",
       "      <td>0.0900</td>\n",
       "    </tr>\n",
       "    <tr>\n",
       "      <td>5</td>\n",
       "      <td>6</td>\n",
       "      <td>100</td>\n",
       "      <td>0.2700</td>\n",
       "    </tr>\n",
       "  </tbody>\n",
       "</table>\n",
       "</div>"
      ],
      "text/plain": [
       "   sno  Temperature  Pressure\n",
       "0    1            0    0.0002\n",
       "1    2           20    0.0012\n",
       "2    3           40    0.0060\n",
       "3    4           60    0.0300\n",
       "4    5           80    0.0900\n",
       "5    6          100    0.2700"
      ]
     },
     "execution_count": 101,
     "metadata": {},
     "output_type": "execute_result"
    }
   ],
   "source": [
    "import pandas as pd\n",
    "data = pd.read_csv(\"data.csv\")\n",
    "data"
   ]
  },
  {
   "cell_type": "code",
   "execution_count": 103,
   "metadata": {},
   "outputs": [
    {
     "data": {
      "text/plain": [
       "LinearRegression(copy_X=True, fit_intercept=True, n_jobs=None, normalize=False)"
      ]
     },
     "execution_count": 103,
     "metadata": {},
     "output_type": "execute_result"
    }
   ],
   "source": [
    "# divide the data set into two parts X and y, X will contain the Columns between 1 and 2.y will contains 2 column\n",
    "X = data.iloc[:,1:2].values\n",
    "y = data.iloc[:,2].values\n",
    "from sklearn.linear_model import LinearRegression\n",
    "lin_reg = LinearRegression()\n",
    "lin_reg.fit(X,y)"
   ]
  },
  {
   "cell_type": "code",
   "execution_count": 106,
   "metadata": {},
   "outputs": [],
   "source": [
    "from sklearn.preprocessing import PolynomialFeatures\n",
    "poly = PolynomialFeatures(degree = 0)\n",
    "X_poly = poly.fit_transform(X)"
   ]
  },
  {
   "cell_type": "code",
   "execution_count": 120,
   "metadata": {},
   "outputs": [
    {
     "data": {
      "image/png": "[encoded data removed]",
      "text/plain": [
       "<Figure size 432x288 with 1 Axes>"
      ]
     },
     "metadata": {
      "needs_background": "light"
     },
     "output_type": "display_data"
    }
   ],
   "source": [
    "plt.plot(X,lin_reg.predict(X), color ='red')\n",
    "plt.scatter(X,y,label=\"Regression Line\")\n",
    "plt.xlabel(\"Temparature:\")\n",
    "plt.ylabel(\"Presure\")\n",
    "plt.title(\"Linear Regression\")\n",
    "plt.show()"
   ]
  },
  {
   "cell_type": "code",
   "execution_count": null,
   "metadata": {},
   "outputs": [],
   "source": []
  },
  {
   "cell_type": "code",
   "execution_count": 126,
   "metadata": {},
   "outputs": [
    {
     "data": {
      "text/plain": [
       "LinearRegression(copy_X=True, fit_intercept=True, n_jobs=None, normalize=False)"
      ]
     },
     "execution_count": 126,
     "metadata": {},
     "output_type": "execute_result"
    }
   ],
   "source": [
    "from sklearn.preprocessing import PolynomialFeatures\n",
    "poly = PolynomialFeatures(degree = 4)\n",
    "X_poly = poly.fit_transform(X)\n",
    "poly.fit(X_poly,y)\n",
    "lin2_reg = LinearRegression()\n",
    "lin2_reg.fit(X_poly,y)"
   ]
  },
  {
   "cell_type": "code",
   "execution_count": 127,
   "metadata": {},
   "outputs": [
    {
     "data": {
      "image/png": "[encoded data removed]",
      "text/plain": [
       "<Figure size 432x288 with 1 Axes>"
      ]
     },
     "metadata": {
      "needs_background": "light"
     },
     "output_type": "display_data"
    }
   ],
   "source": [
    "y_predict = lin2_reg.predict(X_poly)\n",
    "plt.plot(X,y_predict, color ='red')\n",
    "plt.scatter(X,y,label=\"Regression Line\")\n",
    "plt.xlabel(\"Temparature:\")\n",
    "plt.ylabel(\"Presure\")\n",
    "plt.title(\"Linear Regression\")\n",
    "plt.show()"
   ]
  },
  {
   "cell_type": "code",
   "execution_count": 137,
   "metadata": {},
   "outputs": [
    {
     "data": {
      "text/plain": [
       "array([0.18333333])"
      ]
     },
     "execution_count": 137,
     "metadata": {},
     "output_type": "execute_result"
    }
   ],
   "source": [
    "lin_reg.predict([[100.0]])"
   ]
  },
  {
   "cell_type": "code",
   "execution_count": null,
   "metadata": {},
   "outputs": [],
   "source": []
  }
 ],
 "metadata": {
  "kernelspec": {
   "display_name": "Python 3",
   "language": "python",
   "name": "python3"
  },
  "language_info": {
   "codemirror_mode": {
    "name": "ipython",
    "version": 3
   },
   "file_extension": ".py",
   "mimetype": "text/x-python",
   "name": "python",
   "nbconvert_exporter": "python",
   "pygments_lexer": "ipython3",
   "version": "3.7.4"
  }
 },
 "nbformat": 4,
 "nbformat_minor": 2
}
