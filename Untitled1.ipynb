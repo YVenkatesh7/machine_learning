{
 "cells": [
  {
   "cell_type": "code",
   "execution_count": 6,
   "metadata": {},
   "outputs": [
    {
     "name": "stdout",
     "output_type": "stream",
     "text": [
      "10\n",
      "9\n",
      "7\n",
      "5\n",
      "3\n",
      "1\n"
     ]
    }
   ],
   "source": [
    "a = int(input())\n",
    "for i in range(a,0,-1):\n",
    "    if (i%2!=0):\n",
    "        print(i)"
   ]
  },
  {
   "cell_type": "code",
   "execution_count": 2,
   "metadata": {},
   "outputs": [
    {
     "name": "stdout",
     "output_type": "stream",
     "text": [
      "1 2 3 100 200 4 12 5 24 6 1234 100 200\n",
      "150\n"
     ]
    }
   ],
   "source": [
    "a= list(map(int,input().split()))\n",
    "sum1=0\n",
    "count=0\n",
    "list1 = []\n",
    "for i in a:\n",
    "    if (i>99 and i<1000):\n",
    "        if i not in list1:\n",
    "            list1.append(i)\n",
    "for j in list1:\n",
    "    sum1+=j\n",
    "    count+=1\n",
    "print(int(sum1/count))\n",
    "        "
   ]
  },
  {
   "cell_type": "code",
   "execution_count": 5,
   "metadata": {},
   "outputs": [
    {
     "name": "stdout",
     "output_type": "stream",
     "text": [
      "11\n",
      "12\n",
      "13\n",
      "16\n",
      "EXIT\n",
      "54\n",
      "12 16 \n",
      "\n",
      "16\n"
     ]
    }
   ],
   "source": [
    "\n",
    "list1=[]\n",
    "while(True):\n",
    "    a = input()\n",
    "    if (a==\"EXIT\"):\n",
    "        b=int(input())\n",
    "        break\n",
    "    else:\n",
    "        a=int(a)\n",
    "        list1.append(a)\n",
    "list2=[]\n",
    "for i in list1:\n",
    "    if (i%2==0):\n",
    "        list2.append(i)\n",
    "for j in list2:\n",
    "    print(j,end=\" \")\n",
    "print(max(list2))\n",
    "        \n",
    "    \n",
    "    "
   ]
  },
  {
   "cell_type": "code",
   "execution_count": 15,
   "metadata": {},
   "outputs": [
    {
     "name": "stdout",
     "output_type": "stream",
     "text": [
      "2\n",
      "heelo\n",
      "venkatesh how r u ra\n",
      "iffmp\n",
      "wfolbufti ipx s v sb\n"
     ]
    }
   ],
   "source": [
    "a = int(input())\n",
    "list1=[]\n",
    "for i in range(a):\n",
    "    output=''\n",
    "    b = input()\n",
    "    for j in b:\n",
    "        if j.isalpha():\n",
    "            char=ord(j)\n",
    "            output+=chr(char+1)\n",
    "        else:\n",
    "            output+=j\n",
    "    list1.append(output)\n",
    "for k in list1:\n",
    "    print(k)\n",
    "    "
   ]
  },
  {
   "cell_type": "code",
   "execution_count": null,
   "metadata": {},
   "outputs": [],
   "source": []
  }
 ],
 "metadata": {
  "kernelspec": {
   "display_name": "Python 3",
   "language": "python",
   "name": "python3"
  },
  "language_info": {
   "codemirror_mode": {
    "name": "ipython",
    "version": 3
   },
   "file_extension": ".py",
   "mimetype": "text/x-python",
   "name": "python",
   "nbconvert_exporter": "python",
   "pygments_lexer": "ipython3",
   "version": "3.7.4"
  }
 },
 "nbformat": 4,
 "nbformat_minor": 2
}
