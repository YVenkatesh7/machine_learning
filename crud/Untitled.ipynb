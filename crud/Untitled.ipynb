{
 "cells": [
  {
   "cell_type": "code",
   "execution_count": 1,
   "metadata": {},
   "outputs": [],
   "source": [
    "import numpy as np\n",
    "import matplotlib.pyplot as plt\n"
   ]
  },
  {
   "cell_type": "code",
   "execution_count": 2,
   "metadata": {},
   "outputs": [],
   "source": [
    "X = np.random.rand(100,1)"
   ]
  },
  {
   "cell_type": "code",
   "execution_count": 3,
   "metadata": {},
   "outputs": [],
   "source": [
    "y = 4 + 3*X + np.random.randn(100,1)"
   ]
  },
  {
   "cell_type": "code",
   "execution_count": 4,
   "metadata": {},
   "outputs": [
    {
     "data": {
      "text/plain": [
       "[<matplotlib.lines.Line2D at 0x2193f1aed48>]"
      ]
     },
     "execution_count": 4,
     "metadata": {},
     "output_type": "execute_result"
    },
    {
     "data": {
      "image/png": "[encoded data removed]",
      "text/plain": [
       "<Figure size 432x288 with 1 Axes>"
      ]
     },
     "metadata": {
      "needs_background": "light"
     },
     "output_type": "display_data"
    }
   ],
   "source": [
    "plt.plot(X,y,'.')"
   ]
  },
  {
   "cell_type": "code",
   "execution_count": 5,
   "metadata": {},
   "outputs": [
    {
     "data": {
      "text/plain": [
       "array([[1.        , 0.61552654],\n",
       "       [1.        , 0.02285764],\n",
       "       [1.        , 0.23976109],\n",
       "       [1.        , 0.35755968],\n",
       "       [1.        , 0.67315122],\n",
       "       [1.        , 0.3120551 ],\n",
       "       [1.        , 0.06534235],\n",
       "       [1.        , 0.55135976],\n",
       "       [1.        , 0.56477957],\n",
       "       [1.        , 0.35296922],\n",
       "       [1.        , 0.25519804],\n",
       "       [1.        , 0.96452735],\n",
       "       [1.        , 0.5294065 ],\n",
       "       [1.        , 0.46745206],\n",
       "       [1.        , 0.28982369],\n",
       "       [1.        , 0.91553312],\n",
       "       [1.        , 0.57397043],\n",
       "       [1.        , 0.10546722],\n",
       "       [1.        , 0.63656445],\n",
       "       [1.        , 0.63815495],\n",
       "       [1.        , 0.46472817],\n",
       "       [1.        , 0.42158747],\n",
       "       [1.        , 0.98853505],\n",
       "       [1.        , 0.42860833],\n",
       "       [1.        , 0.92601441],\n",
       "       [1.        , 0.0403674 ],\n",
       "       [1.        , 0.67366632],\n",
       "       [1.        , 0.17118127],\n",
       "       [1.        , 0.75925013],\n",
       "       [1.        , 0.06923911],\n",
       "       [1.        , 0.60022853],\n",
       "       [1.        , 0.13395705],\n",
       "       [1.        , 0.00538502],\n",
       "       [1.        , 0.75124834],\n",
       "       [1.        , 0.44924347],\n",
       "       [1.        , 0.22034859],\n",
       "       [1.        , 0.45567918],\n",
       "       [1.        , 0.18682479],\n",
       "       [1.        , 0.99023152],\n",
       "       [1.        , 0.1237231 ],\n",
       "       [1.        , 0.70963193],\n",
       "       [1.        , 0.00582619],\n",
       "       [1.        , 0.140218  ],\n",
       "       [1.        , 0.7109854 ],\n",
       "       [1.        , 0.13664847],\n",
       "       [1.        , 0.51866858],\n",
       "       [1.        , 0.51707396],\n",
       "       [1.        , 0.07097248],\n",
       "       [1.        , 0.30535974],\n",
       "       [1.        , 0.73331563],\n",
       "       [1.        , 0.75335555],\n",
       "       [1.        , 0.21787018],\n",
       "       [1.        , 0.0493658 ],\n",
       "       [1.        , 0.73148259],\n",
       "       [1.        , 0.01084255],\n",
       "       [1.        , 0.78096043],\n",
       "       [1.        , 0.70881898],\n",
       "       [1.        , 0.09129833],\n",
       "       [1.        , 0.9718157 ],\n",
       "       [1.        , 0.23947618],\n",
       "       [1.        , 0.98048998],\n",
       "       [1.        , 0.59926933],\n",
       "       [1.        , 0.63735606],\n",
       "       [1.        , 0.72128057],\n",
       "       [1.        , 0.6424842 ],\n",
       "       [1.        , 0.48317571],\n",
       "       [1.        , 0.22040634],\n",
       "       [1.        , 0.10615679],\n",
       "       [1.        , 0.33063999],\n",
       "       [1.        , 0.73809663],\n",
       "       [1.        , 0.10803926],\n",
       "       [1.        , 0.1953054 ],\n",
       "       [1.        , 0.79060259],\n",
       "       [1.        , 0.65000932],\n",
       "       [1.        , 0.48555281],\n",
       "       [1.        , 0.19061621],\n",
       "       [1.        , 0.83926699],\n",
       "       [1.        , 0.17584177],\n",
       "       [1.        , 0.88561439],\n",
       "       [1.        , 0.47986899],\n",
       "       [1.        , 0.99781473],\n",
       "       [1.        , 0.73817593],\n",
       "       [1.        , 0.5393803 ],\n",
       "       [1.        , 0.38837547],\n",
       "       [1.        , 0.35110155],\n",
       "       [1.        , 0.64338476],\n",
       "       [1.        , 0.06788308],\n",
       "       [1.        , 0.08117642],\n",
       "       [1.        , 0.6163247 ],\n",
       "       [1.        , 0.79084479],\n",
       "       [1.        , 0.18028457],\n",
       "       [1.        , 0.29994395],\n",
       "       [1.        , 0.79906064],\n",
       "       [1.        , 0.30907441],\n",
       "       [1.        , 0.23687981],\n",
       "       [1.        , 0.12364352],\n",
       "       [1.        , 0.7392995 ],\n",
       "       [1.        , 0.45416824],\n",
       "       [1.        , 0.07878946],\n",
       "       [1.        , 0.44189583]])"
      ]
     },
     "execution_count": 5,
     "metadata": {},
     "output_type": "execute_result"
    }
   ],
   "source": [
    "X_b = np.c_[np.ones((100, 1)),X]\n",
    "X_b"
   ]
  },
  {
   "cell_type": "code",
   "execution_count": 6,
   "metadata": {},
   "outputs": [],
   "source": [
    "theta_best = np.linalg.inv(X_b.T.dot(X_b)).dot(X_b.T).dot(y)"
   ]
  },
  {
   "cell_type": "code",
   "execution_count": 7,
   "metadata": {},
   "outputs": [
    {
     "data": {
      "text/plain": [
       "array([[3.64837659],\n",
       "       [3.63136245]])"
      ]
     },
     "execution_count": 7,
     "metadata": {},
     "output_type": "execute_result"
    }
   ],
   "source": [
    "theta_best"
   ]
  },
  {
   "cell_type": "code",
   "execution_count": 8,
   "metadata": {},
   "outputs": [],
   "source": [
    "X_new = np.array([[0],[2]])"
   ]
  },
  {
   "cell_type": "code",
   "execution_count": 9,
   "metadata": {},
   "outputs": [],
   "source": [
    "X_new_b = np.c_[np.ones((2,1)),X_new]"
   ]
  },
  {
   "cell_type": "code",
   "execution_count": 10,
   "metadata": {},
   "outputs": [
    {
     "data": {
      "text/plain": [
       "array([[1., 0.],\n",
       "       [1., 2.]])"
      ]
     },
     "execution_count": 10,
     "metadata": {},
     "output_type": "execute_result"
    }
   ],
   "source": [
    "X_new_b"
   ]
  },
  {
   "cell_type": "code",
   "execution_count": 11,
   "metadata": {},
   "outputs": [],
   "source": [
    "y_predict = X_new_b.dot(theta_best)"
   ]
  },
  {
   "cell_type": "code",
   "execution_count": 12,
   "metadata": {},
   "outputs": [
    {
     "data": {
      "text/plain": [
       "array([[ 3.64837659],\n",
       "       [10.91110148]])"
      ]
     },
     "execution_count": 12,
     "metadata": {},
     "output_type": "execute_result"
    }
   ],
   "source": [
    "y_predict"
   ]
  },
  {
   "cell_type": "code",
   "execution_count": 13,
   "metadata": {},
   "outputs": [
    {
     "data": {
      "text/plain": [
       "[<matplotlib.lines.Line2D at 0x2193f2d1f48>]"
      ]
     },
     "execution_count": 13,
     "metadata": {},
     "output_type": "execute_result"
    },
    {
     "data": {
      "image/png": "[encoded data removed]",
      "text/plain": [
       "<Figure size 432x288 with 1 Axes>"
      ]
     },
     "metadata": {
      "needs_background": "light"
     },
     "output_type": "display_data"
    }
   ],
   "source": [
    "plt.plot(X_new,y_predict,'r')"
   ]
  },
  {
   "cell_type": "code",
   "execution_count": 14,
   "metadata": {},
   "outputs": [
    {
     "data": {
      "text/plain": [
       "[<matplotlib.lines.Line2D at 0x21942a57a88>]"
      ]
     },
     "execution_count": 14,
     "metadata": {},
     "output_type": "execute_result"
    },
    {
     "data": {
      "image/png": "[encoded data removed]",
      "text/plain": [
       "<Figure size 432x288 with 1 Axes>"
      ]
     },
     "metadata": {
      "needs_background": "light"
     },
     "output_type": "display_data"
    }
   ],
   "source": [
    "plt.plot(X,y,'.')"
   ]
  },
  {
   "cell_type": "code",
   "execution_count": 15,
   "metadata": {},
   "outputs": [
    {
     "data": {
      "text/plain": [
       "[0, 2, 0, 15]"
      ]
     },
     "execution_count": 15,
     "metadata": {},
     "output_type": "execute_result"
    },
    {
     "data": {
      "image/png": "[encoded data removed]",
      "text/plain": [
       "<Figure size 432x288 with 1 Axes>"
      ]
     },
     "metadata": {
      "needs_background": "light"
     },
     "output_type": "display_data"
    }
   ],
   "source": [
    "plt.axis([0,2,0,15])"
   ]
  },
  {
   "cell_type": "code",
   "execution_count": 16,
   "metadata": {},
   "outputs": [
    {
     "data": {
      "text/plain": [
       "[0, 2, 0, 15]"
      ]
     },
     "execution_count": 16,
     "metadata": {},
     "output_type": "execute_result"
    },
    {
     "data": {
      "image/png": "[encoded data removed]",
      "text/plain": [
       "<Figure size 432x288 with 1 Axes>"
      ]
     },
     "metadata": {
      "needs_background": "light"
     },
     "output_type": "display_data"
    }
   ],
   "source": [
    "plt.plot(X_new,y_predict,'r')\n",
    "plt.plot(X,y,'.')\n",
    "plt.axis([0,2,0,15])"
   ]
  },
  {
   "cell_type": "code",
   "execution_count": 17,
   "metadata": {},
   "outputs": [
    {
     "data": {
      "text/plain": [
       "(array([3.64837659]), array([[3.63136245]]))"
      ]
     },
     "execution_count": 17,
     "metadata": {},
     "output_type": "execute_result"
    }
   ],
   "source": [
    "from sklearn.linear_model import LinearRegression\n",
    "lin_reg = LinearRegression()\n",
    "lin_reg.fit(X,y)\n",
    "lin_reg.intercept_,lin_reg.coef_"
   ]
  },
  {
   "cell_type": "code",
   "execution_count": 18,
   "metadata": {},
   "outputs": [
    {
     "data": {
      "text/plain": [
       "array([[ 3.64837659],\n",
       "       [10.91110148]])"
      ]
     },
     "execution_count": 18,
     "metadata": {},
     "output_type": "execute_result"
    }
   ],
   "source": [
    "lin_reg.predict(X_new)"
   ]
  },
  {
   "cell_type": "code",
   "execution_count": 19,
   "metadata": {},
   "outputs": [],
   "source": [
    "eta = 0.1\n",
    "n_it = 1000\n",
    "m = 100\n",
    "theta = np.random.randn(2,1)"
   ]
  },
  {
   "cell_type": "code",
   "execution_count": 20,
   "metadata": {},
   "outputs": [],
   "source": [
    "for i in range(n_it):\n",
    "    grad = 2/m *X_b.T.dot(X_b.dot(theta)-y)\n",
    "    theta = theta - eta*grad"
   ]
  },
  {
   "cell_type": "code",
   "execution_count": 21,
   "metadata": {},
   "outputs": [
    {
     "data": {
      "text/plain": [
       "array([[3.64837712],\n",
       "       [3.63136136]])"
      ]
     },
     "execution_count": 21,
     "metadata": {},
     "output_type": "execute_result"
    }
   ],
   "source": [
    "theta"
   ]
  },
  {
   "cell_type": "code",
   "execution_count": 25,
   "metadata": {},
   "outputs": [
    {
     "name": "stdout",
     "output_type": "stream",
     "text": [
      "[1, 2, 3, 4, 5, 8, 9]\n"
     ]
    }
   ],
   "source": [
    "list1=[1,2,3,9,5,8,4]\n",
    "print(sorted(list1))"
   ]
  },
  {
   "cell_type": "code",
   "execution_count": 28,
   "metadata": {},
   "outputs": [],
   "source": [
    "list1.sort()"
   ]
  },
  {
   "cell_type": "code",
   "execution_count": 29,
   "metadata": {},
   "outputs": [
    {
     "data": {
      "text/plain": [
       "[1, 2, 3, 4, 5, 8, 9]"
      ]
     },
     "execution_count": 29,
     "metadata": {},
     "output_type": "execute_result"
    }
   ],
   "source": [
    "list1"
   ]
  },
  {
   "cell_type": "code",
   "execution_count": 30,
   "metadata": {},
   "outputs": [
    {
     "ename": "SyntaxError",
     "evalue": "invalid syntax (<ipython-input-30-f06a00e41d63>, line 2)",
     "output_type": "error",
     "traceback": [
      "\u001b[1;36m  File \u001b[1;32m\"<ipython-input-30-f06a00e41d63>\"\u001b[1;36m, line \u001b[1;32m2\u001b[0m\n\u001b[1;33m    l1=list(l1[0]=l1[2] and l1[2]=l1[3] and l1[3]=l1[0] and l1[4]=l1[-3] and l[-1]=l[4])\u001b[0m\n\u001b[1;37m                                 ^\u001b[0m\n\u001b[1;31mSyntaxError\u001b[0m\u001b[1;31m:\u001b[0m invalid syntax\n"
     ]
    }
   ],
   "source": [
    "\n",
    "l1=l1[0]=l1[2] and l1[2]=l1[3] and l1[3]=l1[0] and l1[4]=l1[-3] and l[-1]=l[4])"
   ]
  },
  {
   "cell_type": "code",
   "execution_count": 41,
   "metadata": {},
   "outputs": [],
   "source": [
    "l1=[9,3,1,7,2,8,4,7]\n",
    "l2=(sorted(l1[:4],reverse=False))\n",
    "l3=(sorted(l1[4:],reverse=True))\n",
    "l1=l2+l3"
   ]
  },
  {
   "cell_type": "code",
   "execution_count": 43,
   "metadata": {},
   "outputs": [
    {
     "data": {
      "text/plain": [
       "[1, 3, 7, 9, 8, 7, 4, 2]"
      ]
     },
     "execution_count": 43,
     "metadata": {},
     "output_type": "execute_result"
    }
   ],
   "source": [
    "l1"
   ]
  },
  {
   "cell_type": "code",
   "execution_count": 51,
   "metadata": {},
   "outputs": [],
   "source": [
    "def Fun1():\n",
    "    name='venkatesh'\n",
    "def Fun2():\n",
    "    for i in name:\n",
    "        print(i)"
   ]
  },
  {
   "cell_type": "code",
   "execution_count": 50,
   "metadata": {},
   "outputs": [],
   "source": [
    "def oneFunction(lists):\n",
    "    category=random.choice(list(lists.keys()))\n",
    "    word=random.choice(lists[category])\n",
    "\n",
    "def anotherFunction():\n",
    "    for letter in word:              #problem is here\n",
    "        print(\"_\",end=\" \")"
   ]
  },
  {
   "cell_type": "code",
   "execution_count": 58,
   "metadata": {},
   "outputs": [
    {
     "name": "stdout",
     "output_type": "stream",
     "text": [
      "100\n",
      "100\n"
     ]
    }
   ],
   "source": [
    "def fun1():\n",
    "    fun1.vari = 100\n",
    "    print(fun1.vari)\n",
    "\n",
    "def fun2():\n",
    "    print(fun1.vari)\n",
    "\n",
    "fun1()\n",
    "fun2()"
   ]
  },
  {
   "cell_type": "code",
   "execution_count": 81,
   "metadata": {},
   "outputs": [
    {
     "name": "stdout",
     "output_type": "stream",
     "text": [
      "5\n",
      "1\n",
      "1\n",
      "2\n",
      "3\n",
      "5\n"
     ]
    }
   ],
   "source": [
    "def fibo(n):\n",
    "    if n<=1:\n",
    "        return 1\n",
    "    else:\n",
    "        return (fibo(n-1)+fibo(n-2))\n",
    "\n",
    "n = int(input())\n",
    "if n<=0:\n",
    "    print(\"error\")\n",
    "else:\n",
    "    for i in range(n):\n",
    "        print(fibo(i))\n",
    "    "
   ]
  },
  {
   "cell_type": "code",
   "execution_count": null,
   "metadata": {},
   "outputs": [],
   "source": []
  }
 ],
 "metadata": {
  "kernelspec": {
   "display_name": "Python 3",
   "language": "python",
   "name": "python3"
  },
  "language_info": {
   "codemirror_mode": {
    "name": "ipython",
    "version": 3
   },
   "file_extension": ".py",
   "mimetype": "text/x-python",
   "name": "python",
   "nbconvert_exporter": "python",
   "pygments_lexer": "ipython3",
   "version": "3.7.4"
  }
 },
 "nbformat": 4,
 "nbformat_minor": 2
}
