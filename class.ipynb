{
 "cells": [
  {
   "cell_type": "code",
   "execution_count": 11,
   "metadata": {},
   "outputs": [
    {
     "name": "stdout",
     "output_type": "stream",
     "text": [
      "i am venkaetsh \n",
      "my roll numbers is 457 \n",
      "i am from vijayawada\n"
     ]
    }
   ],
   "source": [
    "class Student:\n",
    "    def __init__(self,name,roll,address):\n",
    "        self.name = name\n",
    "        self.roll = roll\n",
    "        self.address = address\n",
    "    def display(self):\n",
    "        print(\"i am %s \\nmy roll numbers is %d \\ni am from %s\"%(self.name,self.roll,self.address))\n",
    "data = Student(\"venkaetsh\",457,'vijayawada')\n",
    "data.display()"
   ]
  },
  {
   "cell_type": "code",
   "execution_count": 13,
   "metadata": {},
   "outputs": [
    {
     "name": "stdout",
     "output_type": "stream",
     "text": [
      "i am iUSIudsijosi \n",
      "my roll numbers is 324234 \n",
      "i am from dadasdsad\n"
     ]
    }
   ],
   "source": [
    "a=Student('iUSIudsijosi',324234,'dadasdsad')\n",
    "a.display()"
   ]
  },
  {
   "cell_type": "code",
   "execution_count": 16,
   "metadata": {},
   "outputs": [
    {
     "name": "stdout",
     "output_type": "stream",
     "text": [
      "Total Object in a class is : 3\n"
     ]
    }
   ],
   "source": [
    "class Example():\n",
    "    count=0\n",
    "    def __init__(self):\n",
    "        Example.count = Example.count+1\n",
    "\n",
    "a = Example()\n",
    "a = Example()\n",
    "a = Example()\n",
    "print(\"Total Object in a class is :\",Example.count)"
   ]
  },
  {
   "cell_type": "code",
   "execution_count": 24,
   "metadata": {},
   "outputs": [
    {
     "name": "stdout",
     "output_type": "stream",
     "text": [
      "none balues\n",
      "name is jhssakhjskjjahskaksakshkahjskaskhaks dispoore jhadjdjhakdhkashsdkasdamsndbjk218673867381923781973912893jgjdgas\n",
      "hello venkatesh my id is 457\n"
     ]
    }
   ],
   "source": [
    "# non parametarized constructor\n",
    "class Nonpara():\n",
    "    def __init__(self):\n",
    "        print(\"none balues\")\n",
    "    def display(self,assam,dis):\n",
    "        print(\"name is\",assam,'dispoore',dis)\n",
    "    def show(self,name,id):\n",
    "        print(\"hello\",name,\"my id is\",id)\n",
    "a=Nonpara()\n",
    "a.display(\"jhssakhjskjjahskaksakshkahjskaskhaks\",'jhadjdjhakdhkashsdkasdamsndbjk218673867381923781973912893jgjdgas')\n",
    "a.show(\"venkatesh\",457)"
   ]
  },
  {
   "cell_type": "code",
   "execution_count": 30,
   "metadata": {},
   "outputs": [
    {
     "name": "stdout",
     "output_type": "stream",
     "text": [
      "i am  venkatesh roll no is  11457 I am, from  kadapa\n"
     ]
    }
   ],
   "source": [
    "class Param():\n",
    "    def __init__(self,n,i,a):\n",
    "        self.n=n\n",
    "        self.i=i\n",
    "        self.a=a\n",
    "    def Details(self):\n",
    "        print(\"i am \",self.n,\"roll no is \",self.i,'I am, from ',self.a)\n",
    "b = Param('venkatesh',11457,'kadapa')\n",
    "b.Details()"
   ]
  },
  {
   "cell_type": "code",
   "execution_count": 37,
   "metadata": {},
   "outputs": [
    {
     "name": "stdout",
     "output_type": "stream",
     "text": [
      "parents class\n",
      "Child Class\n",
      "small\n",
      "small kid\n"
     ]
    }
   ],
   "source": [
    "class Parent():\n",
    "    def speak(self):\n",
    "        print(\"parents class\")\n",
    "class Child(Parent):\n",
    "    def bark(self):\n",
    "        print(\"Child Class\")\n",
    "class SmallKid(Child):\n",
    "    def small(self):\n",
    "        print(\"small\")\n",
    "class Small(SmallKid):\n",
    "    def smallk(self):\n",
    "        print(\"small kid\")\n",
    "a = Small()\n",
    "a.speak()\n",
    "a.bark()\n",
    "a.small()\n",
    "a.smallk()"
   ]
  },
  {
   "cell_type": "code",
   "execution_count": 43,
   "metadata": {},
   "outputs": [
    {
     "name": "stdout",
     "output_type": "stream",
     "text": [
      "30\n",
      "8\n",
      "32\n",
      "9\n",
      "18\n"
     ]
    }
   ],
   "source": [
    "class Class1():\n",
    "    def add(self,a,b):\n",
    "        return a+b\n",
    "    def sub(self,a,b):\n",
    "        return a-b\n",
    "class Class2():\n",
    "    def mul(self,a,b):\n",
    "        return a*b\n",
    "class Class4(Class2):\n",
    "    def sol(self,a,b):\n",
    "        return a*b*a\n",
    "class Class3(Class1,Class4):\n",
    "    def pown(self,a,b):\n",
    "        return a**b\n",
    "res = Class3()\n",
    "print(res.add(10,20))\n",
    "print(res.sub(10,2))\n",
    "print(res.mul(4,8))\n",
    "print(res.pown(3,2))\n",
    "print(res.sol(3,2))"
   ]
  },
  {
   "cell_type": "code",
   "execution_count": 44,
   "metadata": {},
   "outputs": [
    {
     "data": {
      "text/plain": [
       "64"
      ]
     },
     "execution_count": 44,
     "metadata": {},
     "output_type": "execute_result"
    }
   ],
   "source": [
    "res.sol(4,4)"
   ]
  },
  {
   "cell_type": "code",
   "execution_count": 50,
   "metadata": {},
   "outputs": [
    {
     "name": "stdout",
     "output_type": "stream",
     "text": [
      "The number of employees 2\n"
     ]
    },
    {
     "ename": "AttributeError",
     "evalue": "'Employee' object has no attribute '__count'",
     "output_type": "error",
     "traceback": [
      "\u001b[1;31m---------------------------------------------------------------------------\u001b[0m",
      "\u001b[1;31mAttributeError\u001b[0m                            Traceback (most recent call last)",
      "\u001b[1;32m<ipython-input-50-f737ec023bee>\u001b[0m in \u001b[0;36m<module>\u001b[1;34m\u001b[0m\n\u001b[0;32m      8\u001b[0m \u001b[0memp2\u001b[0m \u001b[1;33m=\u001b[0m \u001b[0mEmployee\u001b[0m\u001b[1;33m(\u001b[0m\u001b[1;33m)\u001b[0m\u001b[1;33m\u001b[0m\u001b[1;33m\u001b[0m\u001b[0m\n\u001b[0;32m      9\u001b[0m \u001b[1;32mtry\u001b[0m\u001b[1;33m:\u001b[0m\u001b[1;33m\u001b[0m\u001b[1;33m\u001b[0m\u001b[0m\n\u001b[1;32m---> 10\u001b[1;33m     \u001b[0mprint\u001b[0m\u001b[1;33m(\u001b[0m\u001b[0memp\u001b[0m\u001b[1;33m.\u001b[0m\u001b[0m__count\u001b[0m\u001b[1;33m)\u001b[0m\u001b[1;33m\u001b[0m\u001b[1;33m\u001b[0m\u001b[0m\n\u001b[0m\u001b[0;32m     11\u001b[0m \u001b[1;32mfinally\u001b[0m\u001b[1;33m:\u001b[0m\u001b[1;33m\u001b[0m\u001b[1;33m\u001b[0m\u001b[0m\n\u001b[0;32m     12\u001b[0m     \u001b[0memp\u001b[0m\u001b[1;33m.\u001b[0m\u001b[0mdisplay\u001b[0m\u001b[1;33m(\u001b[0m\u001b[1;33m)\u001b[0m\u001b[1;33m\u001b[0m\u001b[1;33m\u001b[0m\u001b[0m\n",
      "\u001b[1;31mAttributeError\u001b[0m: 'Employee' object has no attribute '__count'"
     ]
    }
   ],
   "source": [
    "class Employee:  \n",
    "    __count = 0;  \n",
    "    def __init__(self):  \n",
    "        Employee.__count = Employee.__count+1  \n",
    "    def display(self):  \n",
    "        print(\"The number of employees\",Employee.__count)  \n",
    "emp = Employee()  \n",
    "emp2 = Employee()  \n",
    "try:  \n",
    "    print(emp.__count)  \n",
    "finally:  \n",
    "    emp.display()"
   ]
  },
  {
   "cell_type": "code",
   "execution_count": 58,
   "metadata": {},
   "outputs": [
    {
     "ename": "IndexError",
     "evalue": "list assignment index out of range",
     "output_type": "error",
     "traceback": [
      "\u001b[1;31m---------------------------------------------------------------------------\u001b[0m",
      "\u001b[1;31mIndexError\u001b[0m                                Traceback (most recent call last)",
      "\u001b[1;32m<ipython-input-58-df891bc54998>\u001b[0m in \u001b[0;36m<module>\u001b[1;34m\u001b[0m\n\u001b[0;32m      2\u001b[0m \u001b[0mlist2\u001b[0m\u001b[1;33m=\u001b[0m\u001b[1;33m[\u001b[0m\u001b[1;33m]\u001b[0m\u001b[1;33m\u001b[0m\u001b[1;33m\u001b[0m\u001b[0m\n\u001b[0;32m      3\u001b[0m \u001b[1;32mfor\u001b[0m \u001b[0mi\u001b[0m \u001b[1;32min\u001b[0m \u001b[0mrange\u001b[0m\u001b[1;33m(\u001b[0m\u001b[0mlen\u001b[0m\u001b[1;33m(\u001b[0m\u001b[0mlist1\u001b[0m\u001b[1;33m)\u001b[0m\u001b[1;33m-\u001b[0m\u001b[1;36m1\u001b[0m\u001b[1;33m,\u001b[0m\u001b[1;33m-\u001b[0m\u001b[1;36m1\u001b[0m\u001b[1;33m,\u001b[0m\u001b[1;33m-\u001b[0m\u001b[1;36m1\u001b[0m\u001b[1;33m)\u001b[0m\u001b[1;33m:\u001b[0m\u001b[1;33m\u001b[0m\u001b[1;33m\u001b[0m\u001b[0m\n\u001b[1;32m----> 4\u001b[1;33m     \u001b[0mlist2\u001b[0m\u001b[1;33m[\u001b[0m\u001b[0mi\u001b[0m\u001b[1;33m]\u001b[0m\u001b[1;33m=\u001b[0m\u001b[0mlist1\u001b[0m\u001b[1;33m[\u001b[0m\u001b[0mi\u001b[0m\u001b[1;33m]\u001b[0m\u001b[1;33m\u001b[0m\u001b[1;33m\u001b[0m\u001b[0m\n\u001b[0m\u001b[0;32m      5\u001b[0m \u001b[0mprint\u001b[0m\u001b[1;33m(\u001b[0m\u001b[0mlist2\u001b[0m\u001b[1;33m)\u001b[0m\u001b[1;33m\u001b[0m\u001b[1;33m\u001b[0m\u001b[0m\n",
      "\u001b[1;31mIndexError\u001b[0m: list assignment index out of range"
     ]
    }
   ],
   "source": [
    "list1=[1,2,3,4,5,6,7]\n",
    "list2=[]\n",
    "for i in range(len(list1)-1,-1,-1):\n",
    "    list2[i]=list1[i]\n",
    "print(list2)"
   ]
  },
  {
   "cell_type": "code",
   "execution_count": 56,
   "metadata": {},
   "outputs": [
    {
     "data": {
      "text/plain": [
       "[7, 6, 5, 4, 3, 2, 1]"
      ]
     },
     "execution_count": 56,
     "metadata": {},
     "output_type": "execute_result"
    }
   ],
   "source": [
    "[list1[i] for i in range(len(list1)-1,-1,-1)]"
   ]
  },
  {
   "cell_type": "code",
   "execution_count": 57,
   "metadata": {},
   "outputs": [
    {
     "data": {
      "text/plain": [
       "{1: 1, 2: 2, 3: 3, 4: 4, 5: 5, 6: 6}"
      ]
     },
     "execution_count": 57,
     "metadata": {},
     "output_type": "execute_result"
    }
   ],
   "source": [
    "list1=[1,2,3,4,5,6]\n",
    "dict1={}\n",
    "for i in range(len(list1)):\n",
    "    dict1[list1[i]]=list1[i]\n",
    "dict1\n"
   ]
  },
  {
   "cell_type": "code",
   "execution_count": 61,
   "metadata": {},
   "outputs": [],
   "source": [
    "def inc(a):\n",
    "    return a+1\n",
    "def dec(a):\n",
    "    return a-1\n",
    "def deco(func,x):\n",
    "    res=func(x)\n",
    "    return res"
   ]
  },
  {
   "cell_type": "code",
   "execution_count": 63,
   "metadata": {},
   "outputs": [
    {
     "data": {
      "text/plain": [
       "9"
      ]
     },
     "execution_count": 63,
     "metadata": {},
     "output_type": "execute_result"
    }
   ],
   "source": [
    "deco(dec,10)"
   ]
  },
  {
   "cell_type": "code",
   "execution_count": 75,
   "metadata": {},
   "outputs": [
    {
     "name": "stdout",
     "output_type": "stream",
     "text": [
      "i am venkatsh\n"
     ]
    }
   ],
   "source": [
    "def result():\n",
    "    def is_result():\n",
    "        print(\"i am venkatsh\")\n",
    "    return is_result\n",
    "a=result()\n",
    "a()"
   ]
  },
  {
   "cell_type": "code",
   "execution_count": 96,
   "metadata": {},
   "outputs": [],
   "source": [
    "def sol(func):\n",
    "    def output():\n",
    "        print(\"welcome to apssdc\")\n",
    "        func()\n",
    "    return output\n",
    "def sol1():\n",
    "    print(\"hiiiiiiiiii venkatesh\")"
   ]
  },
  {
   "cell_type": "code",
   "execution_count": 97,
   "metadata": {},
   "outputs": [
    {
     "name": "stdout",
     "output_type": "stream",
     "text": [
      "welcome to apssdc\n",
      "venkatesh\n"
     ]
    }
   ],
   "source": [
    "@sol\n",
    "def ordinary():\n",
    "    print(\"venkatesh\")\n",
    "ordinary()"
   ]
  },
  {
   "cell_type": "code",
   "execution_count": 99,
   "metadata": {},
   "outputs": [],
   "source": [
    "def inner_func(func):\n",
    "    def divid(a,b):\n",
    "        print(\"yes i am divided\")\n",
    "        if b==0:\n",
    "            print(\"oops its not printed\")\n",
    "            return\n",
    "        return func(a,b)\n",
    "    return divid\n",
    "@inner_func\n",
    "def output(a,b):\n",
    "    return a/b"
   ]
  },
  {
   "cell_type": "code",
   "execution_count": 101,
   "metadata": {},
   "outputs": [
    {
     "name": "stdout",
     "output_type": "stream",
     "text": [
      "yes i am divided\n",
      "oops its not printed\n"
     ]
    }
   ],
   "source": [
    "output(2,0)"
   ]
  },
  {
   "cell_type": "code",
   "execution_count": 106,
   "metadata": {},
   "outputs": [
    {
     "name": "stdout",
     "output_type": "stream",
     "text": [
      "columns names are :first_name, last_name, roll, address\n"
     ]
    }
   ],
   "source": [
    "import csv\n",
    "with open(\"example.csv\") as csv_file:\n",
    "    data = csv.reader(csv_file)\n",
    "    line_count = 0\n",
    "    for i in data:\n",
    "        if line_count == 0:\n",
    "            print(f'columns names are :{\", \".join(i)}')\n",
    "            line_count+=1"
   ]
  },
  {
   "cell_type": "code",
   "execution_count": 115,
   "metadata": {},
   "outputs": [
    {
     "name": "stdout",
     "output_type": "stream",
     "text": [
      "data is :first_name,last_name,roll,address\n",
      "i am venkatesh yekkanti my roll number is1 and iam from guntur\n",
      "i am suresh kakarla my roll number is2 and iam from adilabad\n",
      "i am naresh gunnam my roll number is3 and iam from vijayawada\n",
      "i am abdul sk my roll number is4 and iam from kadapa\n",
      "total lines are 5\n"
     ]
    }
   ],
   "source": [
    "with open(\"example.csv\") as csv_file:\n",
    "    data_read = csv.DictReader(csv_file)\n",
    "    l_count = 0\n",
    "    for row in data_read:\n",
    "        if (l_count == 0):\n",
    "            print(f'data is :{\",\".join(row)}')\n",
    "            l_count+=1\n",
    "        print(f'i am {row[\"first_name\"]} {row[\"last_name\"]} my roll number is{row[\"roll\"]} and iam from {row[\"address\"]}')\n",
    "        l_count+=1\n",
    "    print(\"total lines are\",l_count)\n",
    "                "
   ]
  },
  {
   "cell_type": "code",
   "execution_count": 116,
   "metadata": {},
   "outputs": [
    {
     "data": {
      "text/html": [
       "<div>\n",
       "<style scoped>\n",
       "    .dataframe tbody tr th:only-of-type {\n",
       "        vertical-align: middle;\n",
       "    }\n",
       "\n",
       "    .dataframe tbody tr th {\n",
       "        vertical-align: top;\n",
       "    }\n",
       "\n",
       "    .dataframe thead th {\n",
       "        text-align: right;\n",
       "    }\n",
       "</style>\n",
       "<table border=\"1\" class=\"dataframe\">\n",
       "  <thead>\n",
       "    <tr style=\"text-align: right;\">\n",
       "      <th></th>\n",
       "      <th>first_name</th>\n",
       "      <th>last_name</th>\n",
       "      <th>roll</th>\n",
       "      <th>address</th>\n",
       "    </tr>\n",
       "  </thead>\n",
       "  <tbody>\n",
       "    <tr>\n",
       "      <td>0</td>\n",
       "      <td>venkatesh</td>\n",
       "      <td>yekkanti</td>\n",
       "      <td>1</td>\n",
       "      <td>guntur</td>\n",
       "    </tr>\n",
       "    <tr>\n",
       "      <td>1</td>\n",
       "      <td>suresh</td>\n",
       "      <td>kakarla</td>\n",
       "      <td>2</td>\n",
       "      <td>adilabad</td>\n",
       "    </tr>\n",
       "    <tr>\n",
       "      <td>2</td>\n",
       "      <td>naresh</td>\n",
       "      <td>gunnam</td>\n",
       "      <td>3</td>\n",
       "      <td>vijayawada</td>\n",
       "    </tr>\n",
       "    <tr>\n",
       "      <td>3</td>\n",
       "      <td>abdul</td>\n",
       "      <td>sk</td>\n",
       "      <td>4</td>\n",
       "      <td>kadapa</td>\n",
       "    </tr>\n",
       "  </tbody>\n",
       "</table>\n",
       "</div>"
      ],
      "text/plain": [
       "  first_name last_name  roll     address\n",
       "0  venkatesh  yekkanti     1      guntur\n",
       "1     suresh   kakarla     2    adilabad\n",
       "2     naresh    gunnam     3  vijayawada\n",
       "3      abdul        sk     4      kadapa"
      ]
     },
     "execution_count": 116,
     "metadata": {},
     "output_type": "execute_result"
    }
   ],
   "source": [
    "import pandas as pd\n",
    "a = pd.read_csv(\"example.csv\")\n",
    "a"
   ]
  },
  {
   "cell_type": "code",
   "execution_count": 119,
   "metadata": {},
   "outputs": [
    {
     "name": "stdout",
     "output_type": "stream",
     "text": [
      "completed\n"
     ]
    }
   ],
   "source": [
    "data = [{\"name\":\"venkatesh\",\"phone\":9494,\"address\":\"Guntur\"},\n",
    "       {\"name\":\"ramu\",\"phone\":9123,\"address\":\"ongole\"},\n",
    "       {\"name\":\"gopi\",\"phone\":1234,\"address\":\"krishna\"},\n",
    "       {\"name\":\"avinash\",\"phone\":8765,\"address\":\"east\"},\n",
    "       {\"name\":\"raj\",\"phone\":5678,\"address\":\"west\"},\n",
    "       {\"name\":\"satti\",\"phone\":3456,\"address\":\"tirupathi\"}]\n",
    "with open(\"example1.csv\",'w') as write_csv:\n",
    "    field_names = [\"name\",'phone','address']\n",
    "    write = csv.DictWriter(write_csv,fieldnames = field_names)\n",
    "    write.writeheader()\n",
    "    write.writerows(data)\n",
    "print(\"completed\")\n",
    "    "
   ]
  },
  {
   "cell_type": "code",
   "execution_count": 120,
   "metadata": {},
   "outputs": [
    {
     "data": {
      "text/html": [
       "<div>\n",
       "<style scoped>\n",
       "    .dataframe tbody tr th:only-of-type {\n",
       "        vertical-align: middle;\n",
       "    }\n",
       "\n",
       "    .dataframe tbody tr th {\n",
       "        vertical-align: top;\n",
       "    }\n",
       "\n",
       "    .dataframe thead th {\n",
       "        text-align: right;\n",
       "    }\n",
       "</style>\n",
       "<table border=\"1\" class=\"dataframe\">\n",
       "  <thead>\n",
       "    <tr style=\"text-align: right;\">\n",
       "      <th></th>\n",
       "      <th>name</th>\n",
       "      <th>phone</th>\n",
       "      <th>address</th>\n",
       "    </tr>\n",
       "  </thead>\n",
       "  <tbody>\n",
       "    <tr>\n",
       "      <td>0</td>\n",
       "      <td>venkatesh</td>\n",
       "      <td>9494</td>\n",
       "      <td>Guntur</td>\n",
       "    </tr>\n",
       "    <tr>\n",
       "      <td>1</td>\n",
       "      <td>ramu</td>\n",
       "      <td>9123</td>\n",
       "      <td>ongole</td>\n",
       "    </tr>\n",
       "    <tr>\n",
       "      <td>2</td>\n",
       "      <td>gopi</td>\n",
       "      <td>1234</td>\n",
       "      <td>krishna</td>\n",
       "    </tr>\n",
       "    <tr>\n",
       "      <td>3</td>\n",
       "      <td>avinash</td>\n",
       "      <td>8765</td>\n",
       "      <td>east</td>\n",
       "    </tr>\n",
       "    <tr>\n",
       "      <td>4</td>\n",
       "      <td>raj</td>\n",
       "      <td>5678</td>\n",
       "      <td>west</td>\n",
       "    </tr>\n",
       "    <tr>\n",
       "      <td>5</td>\n",
       "      <td>satti</td>\n",
       "      <td>3456</td>\n",
       "      <td>tirupathi</td>\n",
       "    </tr>\n",
       "  </tbody>\n",
       "</table>\n",
       "</div>"
      ],
      "text/plain": [
       "        name  phone    address\n",
       "0  venkatesh   9494     Guntur\n",
       "1       ramu   9123     ongole\n",
       "2       gopi   1234    krishna\n",
       "3    avinash   8765       east\n",
       "4        raj   5678       west\n",
       "5      satti   3456  tirupathi"
      ]
     },
     "execution_count": 120,
     "metadata": {},
     "output_type": "execute_result"
    }
   ],
   "source": [
    "b = pd.read_csv(\"example1.csv\")\n",
    "b"
   ]
  },
  {
   "cell_type": "code",
   "execution_count": 135,
   "metadata": {},
   "outputs": [
    {
     "data": {
      "text/plain": [
       "'name'"
      ]
     },
     "execution_count": 135,
     "metadata": {},
     "output_type": "execute_result"
    }
   ],
   "source": [
    "import xlrd\n",
    "path = \"example.xlsx\"\n",
    "work_book = xlrd.open_workbook(path)\n",
    "res = work_book.sheet_by_index(0)\n",
    "res.cell_value(0,0)"
   ]
  },
  {
   "cell_type": "code",
   "execution_count": 147,
   "metadata": {},
   "outputs": [
    {
     "data": {
      "text/html": [
       "<div>\n",
       "<style scoped>\n",
       "    .dataframe tbody tr th:only-of-type {\n",
       "        vertical-align: middle;\n",
       "    }\n",
       "\n",
       "    .dataframe tbody tr th {\n",
       "        vertical-align: top;\n",
       "    }\n",
       "\n",
       "    .dataframe thead th {\n",
       "        text-align: right;\n",
       "    }\n",
       "</style>\n",
       "<table border=\"1\" class=\"dataframe\">\n",
       "  <thead>\n",
       "    <tr style=\"text-align: right;\">\n",
       "      <th></th>\n",
       "      <th>name</th>\n",
       "      <th>address</th>\n",
       "      <th>age</th>\n",
       "      <th>contact</th>\n",
       "    </tr>\n",
       "  </thead>\n",
       "  <tbody>\n",
       "    <tr>\n",
       "      <td>0</td>\n",
       "      <td>venkatesh</td>\n",
       "      <td>guntur</td>\n",
       "      <td>26</td>\n",
       "      <td>9494699851</td>\n",
       "    </tr>\n",
       "    <tr>\n",
       "      <td>1</td>\n",
       "      <td>ramu</td>\n",
       "      <td>ongole</td>\n",
       "      <td>35</td>\n",
       "      <td>90101013952</td>\n",
       "    </tr>\n",
       "    <tr>\n",
       "      <td>2</td>\n",
       "      <td>gopi</td>\n",
       "      <td>krishna</td>\n",
       "      <td>25</td>\n",
       "      <td>97059282369</td>\n",
       "    </tr>\n",
       "  </tbody>\n",
       "</table>\n",
       "</div>"
      ],
      "text/plain": [
       "        name  address  age      contact\n",
       "0  venkatesh   guntur   26   9494699851\n",
       "1       ramu   ongole   35  90101013952\n",
       "2       gopi  krishna   25  97059282369"
      ]
     },
     "execution_count": 147,
     "metadata": {},
     "output_type": "execute_result"
    }
   ],
   "source": [
    "a = pd.read_excel(\"example.xlsx\")\n",
    "a"
   ]
  },
  {
   "cell_type": "code",
   "execution_count": 150,
   "metadata": {},
   "outputs": [
    {
     "ename": "TypeError",
     "evalue": "'int' object is not callable",
     "output_type": "error",
     "traceback": [
      "\u001b[1;31m---------------------------------------------------------------------------\u001b[0m",
      "\u001b[1;31mTypeError\u001b[0m                                 Traceback (most recent call last)",
      "\u001b[1;32m<ipython-input-150-2363dba13d63>\u001b[0m in \u001b[0;36m<module>\u001b[1;34m\u001b[0m\n\u001b[0;32m      2\u001b[0m \u001b[1;32mfor\u001b[0m \u001b[0ms\u001b[0m \u001b[1;32min\u001b[0m \u001b[0mfile\u001b[0m\u001b[1;33m.\u001b[0m\u001b[0msheets\u001b[0m\u001b[1;33m(\u001b[0m\u001b[1;33m)\u001b[0m\u001b[1;33m:\u001b[0m\u001b[1;33m\u001b[0m\u001b[1;33m\u001b[0m\u001b[0m\n\u001b[0;32m      3\u001b[0m     \u001b[0mvalues\u001b[0m \u001b[1;33m=\u001b[0m\u001b[1;33m[\u001b[0m\u001b[1;33m]\u001b[0m\u001b[1;33m\u001b[0m\u001b[1;33m\u001b[0m\u001b[0m\n\u001b[1;32m----> 4\u001b[1;33m     \u001b[1;32mfor\u001b[0m \u001b[0mrow\u001b[0m \u001b[1;32min\u001b[0m \u001b[0ms\u001b[0m\u001b[1;33m.\u001b[0m\u001b[0mnrows\u001b[0m\u001b[1;33m(\u001b[0m\u001b[1;33m)\u001b[0m\u001b[1;33m:\u001b[0m\u001b[1;33m\u001b[0m\u001b[1;33m\u001b[0m\u001b[0m\n\u001b[0m\u001b[0;32m      5\u001b[0m         \u001b[0mcol_value\u001b[0m \u001b[1;33m=\u001b[0m \u001b[1;33m[\u001b[0m\u001b[1;33m]\u001b[0m\u001b[1;33m\u001b[0m\u001b[1;33m\u001b[0m\u001b[0m\n\u001b[0;32m      6\u001b[0m         \u001b[1;32mfor\u001b[0m \u001b[0mcol\u001b[0m \u001b[1;32min\u001b[0m \u001b[0ms\u001b[0m\u001b[1;33m.\u001b[0m\u001b[0mncols\u001b[0m\u001b[1;33m(\u001b[0m\u001b[1;33m)\u001b[0m\u001b[1;33m:\u001b[0m\u001b[1;33m\u001b[0m\u001b[1;33m\u001b[0m\u001b[0m\n",
      "\u001b[1;31mTypeError\u001b[0m: 'int' object is not callable"
     ]
    }
   ],
   "source": [
    "file = xlrd.open_workbook(\"example.xlsx\")\n",
    "for s in file.sheets():\n",
    "    values =[]\n",
    "    for row in s.nrows():\n",
    "        col_value = []\n",
    "        for col in s.ncols():\n",
    "            value = (s.cell(row,col).value())\n",
    "            try:\n",
    "                value = str(int(value))\n",
    "            except:\n",
    "                pass\n",
    "            col_value.append(value)\n",
    "        values.append(col_value)\n",
    "    print(values)"
   ]
  },
  {
   "cell_type": "code",
   "execution_count": 161,
   "metadata": {},
   "outputs": [
    {
     "data": {
      "text/plain": [
       "2"
      ]
     },
     "execution_count": 161,
     "metadata": {},
     "output_type": "execute_result"
    }
   ],
   "source": [
    "import statistics\n",
    "list1=[1,2,3,4,5,6,7,8,9,1,1,2,2,2,22,34,11]\n",
    "res = statistics.mode(list1)\n",
    "res"
   ]
  },
  {
   "cell_type": "code",
   "execution_count": 1,
   "metadata": {},
   "outputs": [
    {
     "data": {
      "text/plain": [
       "1573806980.585575"
      ]
     },
     "execution_count": 1,
     "metadata": {},
     "output_type": "execute_result"
    }
   ],
   "source": [
    "import time\n",
    "time.time()"
   ]
  },
  {
   "cell_type": "code",
   "execution_count": null,
   "metadata": {},
   "outputs": [],
   "source": []
  }
 ],
 "metadata": {
  "kernelspec": {
   "display_name": "Python 3",
   "language": "python",
   "name": "python3"
  },
  "language_info": {
   "codemirror_mode": {
    "name": "ipython",
    "version": 3
   },
   "file_extension": ".py",
   "mimetype": "text/x-python",
   "name": "python",
   "nbconvert_exporter": "python",
   "pygments_lexer": "ipython3",
   "version": "3.7.4"
  }
 },
 "nbformat": 4,
 "nbformat_minor": 2
}
