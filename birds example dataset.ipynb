{
 "cells": [
  {
   "cell_type": "code",
   "execution_count": 6,
   "metadata": {},
   "outputs": [],
   "source": [
    "import pandas as pd\n",
    "birds_data = pd.read_csv(\"bird.csv\")\n"
   ]
  },
  {
   "cell_type": "code",
   "execution_count": 8,
   "metadata": {},
   "outputs": [
    {
     "data": {
      "text/plain": [
       "(      huml  humw  ulnal  ulnaw   feml  femw   tibl  tibw   tarl  tarw\n",
       " 0    80.78  6.68  72.01   4.88  41.81  3.70   5.50  4.03  38.70  3.84\n",
       " 1    88.91  6.63  80.53   5.59  47.04  4.30  80.22  4.51  41.50  4.01\n",
       " 2    79.97  6.37  69.26   5.28  43.07  3.90  75.35  4.04  38.31  3.34\n",
       " 3    77.65  5.70  65.76   4.77  40.04  3.52  69.17  3.40  35.78  3.41\n",
       " 4    62.80  4.84  52.09   3.73  33.95  2.72  56.27  2.96  31.88  3.13\n",
       " ..     ...   ...    ...    ...    ...   ...    ...   ...    ...   ...\n",
       " 415  17.96  1.63  19.25   1.33  18.36  1.54  31.25  1.33  21.99  1.15\n",
       " 416  19.21  1.64  20.76   1.49  19.24  1.45  33.21  1.28  23.60  1.15\n",
       " 417  18.79  1.63  19.83   1.53  20.96  1.43  34.45  1.41  22.86  1.21\n",
       " 418  20.38  1.78  22.53   1.50  21.35  1.48  36.09  1.53  25.98  1.24\n",
       " 419  17.89  1.44  19.26   1.10  17.62  1.34  29.81  1.24  21.69  1.05\n",
       " \n",
       " [420 rows x 10 columns], 0      SW\n",
       " 1      SW\n",
       " 2      SW\n",
       " 3      SW\n",
       " 4      SW\n",
       "        ..\n",
       " 415    SO\n",
       " 416    SO\n",
       " 417    SO\n",
       " 418    SO\n",
       " 419    SO\n",
       " Name: type, Length: 420, dtype: object)"
      ]
     },
     "execution_count": 8,
     "metadata": {},
     "output_type": "execute_result"
    }
   ],
   "source": [
    "X = birds_data.iloc[:,1:11]\n",
    "Y = birds_data.iloc[:,-1]\n",
    "X,Y"
   ]
  },
  {
   "cell_type": "code",
   "execution_count": 9,
   "metadata": {},
   "outputs": [
    {
     "ename": "TypeError",
     "evalue": "fit() takes 2 positional arguments but 3 were given",
     "output_type": "error",
     "traceback": [
      "\u001b[1;31m---------------------------------------------------------------------------\u001b[0m",
      "\u001b[1;31mTypeError\u001b[0m                                 Traceback (most recent call last)",
      "\u001b[1;32m<ipython-input-9-3d44e58db5a8>\u001b[0m in \u001b[0;36m<module>\u001b[1;34m\u001b[0m\n\u001b[0;32m      1\u001b[0m \u001b[1;32mfrom\u001b[0m \u001b[0msklearn\u001b[0m\u001b[1;33m.\u001b[0m\u001b[0mpreprocessing\u001b[0m \u001b[1;32mimport\u001b[0m \u001b[0mLabelEncoder\u001b[0m\u001b[1;33m\u001b[0m\u001b[1;33m\u001b[0m\u001b[0m\n\u001b[0;32m      2\u001b[0m \u001b[0mbirds_d\u001b[0m \u001b[1;33m=\u001b[0m \u001b[0mLabelEncoder\u001b[0m\u001b[1;33m(\u001b[0m\u001b[1;33m)\u001b[0m\u001b[1;33m\u001b[0m\u001b[1;33m\u001b[0m\u001b[0m\n\u001b[1;32m----> 3\u001b[1;33m \u001b[0mbirds_d\u001b[0m\u001b[1;33m.\u001b[0m\u001b[0mfit\u001b[0m\u001b[1;33m(\u001b[0m\u001b[0mX\u001b[0m\u001b[1;33m,\u001b[0m\u001b[0mY\u001b[0m\u001b[1;33m)\u001b[0m\u001b[1;33m\u001b[0m\u001b[1;33m\u001b[0m\u001b[0m\n\u001b[0m",
      "\u001b[1;31mTypeError\u001b[0m: fit() takes 2 positional arguments but 3 were given"
     ]
    }
   ],
   "source": [
    "from sklearn.preprocessing import LabelEncoder\n",
    "birds_d = LabelEncoder()\n",
    "birds_d.fit(X,Y)"
   ]
  },
  {
   "cell_type": "code",
   "execution_count": null,
   "metadata": {},
   "outputs": [],
   "source": []
  }
 ],
 "metadata": {
  "kernelspec": {
   "display_name": "Python 3",
   "language": "python",
   "name": "python3"
  },
  "language_info": {
   "codemirror_mode": {
    "name": "ipython",
    "version": 3
   },
   "file_extension": ".py",
   "mimetype": "text/x-python",
   "name": "python",
   "nbconvert_exporter": "python",
   "pygments_lexer": "ipython3",
   "version": "3.7.4"
  }
 },
 "nbformat": 4,
 "nbformat_minor": 2
}
