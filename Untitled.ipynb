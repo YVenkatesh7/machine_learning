{
 "cells": [
  {
   "cell_type": "code",
   "execution_count": null,
   "metadata": {
    "scrolled": true
   },
   "outputs": [],
   "source": [
    "import pandas as pd\n",
    "a=pd.Series([\"data\", \"index\", \"dtype\", \"copy\"],index=[i for i in range(4)])\n",
    "a"
   ]
  },
  {
   "cell_type": "code",
   "execution_count": null,
   "metadata": {
    "scrolled": true
   },
   "outputs": [],
   "source": [
    "class employee:\n",
    "    name=\"venkatesh\"\n",
    "    id=123\n",
    "    def Display(self):\n",
    "        print(self.name,self.id)\n",
    "res=employee()\n",
    "res.Display()"
   ]
  },
  {
   "cell_type": "code",
   "execution_count": null,
   "metadata": {
    "scrolled": true
   },
   "outputs": [],
   "source": [
    "class Student:\n",
    "    def __init__(self,name,roll,address):\n",
    "        self.name = name\n",
    "        self.roll = roll\n",
    "        self.address = address\n",
    "    def display(self):\n",
    "        print(\"i am %s \\n \\\n",
    "        my roll numbers is %d \\n \\\n",
    "        i am from %s\"%(name,roll,address))\n",
    "Student()"
   ]
  },
  {
   "cell_type": "code",
   "execution_count": null,
   "metadata": {
    "scrolled": true
   },
   "outputs": [],
   "source": []
  },
  {
   "cell_type": "code",
   "execution_count": null,
   "metadata": {
    "scrolled": true
   },
   "outputs": [],
   "source": [
    "import threading \n",
    "  \n",
    "def print_cube(num): \n",
    "    \n",
    "    \"\"\" \n",
    "    function to print cube of given num \n",
    "    \"\"\"\n",
    "    print(\"Cube: {}\".format(num * num * num)) \n",
    "def print_square(num): \n",
    "    \"\"\" \n",
    "    function to print square of given num \n",
    "    \"\"\"\n",
    "    print(\"Square: {}\".format(num * num)) \n",
    "if __name__ == \"__main__\":\n",
    "    \n",
    "    # creating thread \n",
    "    t1 = threading.Thread(target=print_square, args=(10, )) \n",
    "    t2 = threading.Thread(target=print_cube, args=(10, )) \n",
    "  \n",
    "    # starting thread 1 \n",
    "    t1.start() \n",
    "    # starting thread 2 \n",
    "    t2.start() \n",
    "  \n",
    "    # wait until thread 1 is completely executed \n",
    "    t1.join() \n",
    "    # wait until thread 2 is completely executed \n",
    "    t2.join() \n",
    "  \n",
    "    # both threads completely executed \n",
    "    print(\"Done!\") \n"
   ]
  },
  {
   "cell_type": "code",
   "execution_count": null,
   "metadata": {
    "scrolled": true
   },
   "outputs": [],
   "source": [
    "a=pd.DataFrame(['data', 'index', 'columns', 'dtype', 'copy'],columns=['name'])"
   ]
  },
  {
   "cell_type": "code",
   "execution_count": null,
   "metadata": {
    "scrolled": true
   },
   "outputs": [],
   "source": [
    "data=[['a',1],['b',2],['c',3],['d',4]]\n",
    "\n",
    "a=pd.DataFrame(data,columns=['names','rollnumbers'],dtype=str)"
   ]
  },
  {
   "cell_type": "code",
   "execution_count": null,
   "metadata": {
    "scrolled": true
   },
   "outputs": [],
   "source": [
    "a"
   ]
  },
  {
   "cell_type": "code",
   "execution_count": null,
   "metadata": {
    "scrolled": true
   },
   "outputs": [],
   "source": [
    "df=pd.read_csv('olympics.csv',index_col=0,skiprows=1)\n",
    "#df.index\n",
    "#df.columns\n",
    "for column in df.columns:\n",
    "    if column[0:2] == '01':\n",
    "        df.rename(columns={column:'Gold'+column[2:]},inplace=True)\n",
    "    if column[:2] == '02':\n",
    "        df.rename(columns={column:'Silver'+column[2:]},inplace = True)\n",
    "    if column[:2] == '03':\n",
    "        df.rename(columns={column:\"Bronze\"+column[2:]},inplace = True)\n",
    "    if column[:1] == '№':\n",
    "        df.rename(columns={column:'#'+column[1:]},inplace = True)\n",
    "names=  df.index.str.split('\\s\\(')\n",
    "df.index = names.str[0]\n",
    "df['ID'] = names.str[1].str[:3]\n",
    "df"
   ]
  },
  {
   "cell_type": "code",
   "execution_count": null,
   "metadata": {
    "scrolled": false
   },
   "outputs": [],
   "source": [
    "df"
   ]
  },
  {
   "cell_type": "markdown",
   "metadata": {},
   "source": [
    "### Data Cleaning\n",
    "* Importing the data set(CSV)\n",
    "\n",
    "* Observe the data set\n",
    "    * identify the rows/columns and their relation\n",
    "    * Identify the Index Column (Primary Key column)\n",
    "    * check if there are any duplicate column\n",
    "    * which rows to be skipped\n",
    "* Assign the Index Column(to avoid creatin of new index columns\n",
    "* Skip Irrelevant Rows(to avoid display of index rows)\n",
    "* Drop duplicate/irrelevant columns()"
   ]
  },
  {
   "cell_type": "code",
   "execution_count": null,
   "metadata": {
    "scrolled": true
   },
   "outputs": [],
   "source": [
    "import pandas as pd\n",
    "df = pd.read_csv(\"olympics.csv\",index_col=0, skiprows=1)\n",
    "df.index # returns the index column\n",
    "df.columns # returns the column names or first row in csv file\n",
    "df[\"Total\"] # returns the Total column ->total  medals in columns\n",
    "df[\"Total.1\"] # return the Total.1 column\n",
    "df.head(5) # return sub data frame with the specified rows\n",
    "df.index[0]\n",
    "df.loc[\"India (IND) [F]\"] # returns a single row\n",
    "df.index[1]# returns the second country name\n",
    "df['01 !'][4] # returns the gold medals won by the fifth country\n",
    "df.iloc[4][1] # returns the gold medals won by the fifth country\n",
    "df.loc[\"India (IND) [F]\"][-1] # returns total medals won by india\n",
    "df['Combined total']"
   ]
  },
  {
   "cell_type": "markdown",
   "metadata": {},
   "source": [
    "### Data Retrieval\n",
    "\n",
    "* Index Column\n",
    "    - df.index\n",
    "* Columns Names\n",
    "    - df.columns\n",
    "* Second Column\n",
    "    - df[\"Total\"]\n",
    "* Any Columns\n",
    "    - df['column name here']\n",
    "* First Row\n",
    "    - df.head() its get number of rows we have retrived mentiioned in function\n",
    "    - df.index[]\n",
    "* Any Row\n",
    "    - df.loc[\"row index name here\"] ex df.loc[\"Afghanistan (AFG)\"]\n",
    "* Single cell Data\n",
    "    - df.index[0] first row first column data"
   ]
  },
  {
   "cell_type": "code",
   "execution_count": null,
   "metadata": {
    "scrolled": true
   },
   "outputs": [],
   "source": [
    "df.loc['Afghanistan (AFG)'][0]"
   ]
  },
  {
   "cell_type": "code",
   "execution_count": null,
   "metadata": {
    "scrolled": true
   },
   "outputs": [],
   "source": [
    "df[\"01 !\"][3]# 3rd country 01 ! count is\n",
    "df['01 !'][1]\n",
    "df.iloc[4]"
   ]
  },
  {
   "cell_type": "code",
   "execution_count": null,
   "metadata": {
    "scrolled": true
   },
   "outputs": [],
   "source": [
    "df"
   ]
  },
  {
   "cell_type": "code",
   "execution_count": null,
   "metadata": {
    "scrolled": true
   },
   "outputs": [],
   "source": [
    "df[\"№ Summer\"][9]"
   ]
  },
  {
   "cell_type": "code",
   "execution_count": null,
   "metadata": {
    "scrolled": true
   },
   "outputs": [],
   "source": [
    "# total the total medals won by the last country\n",
    "\n",
    "df['Combined total'][-2]"
   ]
  },
  {
   "cell_type": "code",
   "execution_count": null,
   "metadata": {
    "scrolled": true
   },
   "outputs": [],
   "source": [
    "# return total number of gold medals won by the united states\n",
    "df.loc['United States (USA) [P] [Q] [R] [Z]']['01 !.2']"
   ]
  },
  {
   "cell_type": "code",
   "execution_count": null,
   "metadata": {
    "scrolled": true
   },
   "outputs": [],
   "source": [
    "# Diff b/w summer gold medals of united states and china\n",
    "\n",
    "abs(df.loc[\"United States (USA) [P] [Q] [R] [Z]\"]['01 !']  - df.loc['China (CHN) [CHN]']['01 !'])"
   ]
  },
  {
   "cell_type": "code",
   "execution_count": null,
   "metadata": {
    "scrolled": true
   },
   "outputs": [],
   "source": [
    "\n",
    "#df['01 !.1'].max()\n",
    "df = df.drop('Totals')"
   ]
  },
  {
   "cell_type": "code",
   "execution_count": null,
   "metadata": {
    "scrolled": true
   },
   "outputs": [],
   "source": [
    "# Maximum gold medals count in winter olympics\n",
    "df['01 !.1'].max()"
   ]
  },
  {
   "cell_type": "code",
   "execution_count": null,
   "metadata": {
    "scrolled": true
   },
   "outputs": [],
   "source": [
    "# sum of all gold medals in the summer olympics or how many gold medals are there\n",
    "df['01 !'].sum()"
   ]
  },
  {
   "cell_type": "code",
   "execution_count": 225,
   "metadata": {
    "scrolled": true
   },
   "outputs": [
    {
     "data": {
      "text/plain": [
       "'United States\\xa0(USA) [P] [Q] [R] [Z]'"
      ]
     },
     "execution_count": 225,
     "metadata": {},
     "output_type": "execute_result"
    }
   ],
   "source": [
    "# return a boolean series objects for the maximum no of gold medals\n",
    "df[df['01 !'] == df['01 !'].max()].index[0]"
   ]
  },
  {
   "cell_type": "code",
   "execution_count": 237,
   "metadata": {
    "scrolled": true
   },
   "outputs": [
    {
     "data": {
      "text/html": [
       "<div>\n",
       "<style scoped>\n",
       "    .dataframe tbody tr th:only-of-type {\n",
       "        vertical-align: middle;\n",
       "    }\n",
       "\n",
       "    .dataframe tbody tr th {\n",
       "        vertical-align: top;\n",
       "    }\n",
       "\n",
       "    .dataframe thead th {\n",
       "        text-align: right;\n",
       "    }\n",
       "</style>\n",
       "<table border=\"1\" class=\"dataframe\">\n",
       "  <thead>\n",
       "    <tr style=\"text-align: right;\">\n",
       "      <th></th>\n",
       "      <th>№ Summer</th>\n",
       "      <th>01 !</th>\n",
       "      <th>02 !</th>\n",
       "      <th>03 !</th>\n",
       "      <th>Total</th>\n",
       "      <th>№ Winter</th>\n",
       "      <th>01 !.1</th>\n",
       "      <th>02 !.1</th>\n",
       "      <th>03 !.1</th>\n",
       "      <th>Total.1</th>\n",
       "      <th>№ Games</th>\n",
       "      <th>01 !.2</th>\n",
       "      <th>02 !.2</th>\n",
       "      <th>03 !.2</th>\n",
       "      <th>Combined total</th>\n",
       "    </tr>\n",
       "  </thead>\n",
       "  <tbody>\n",
       "    <tr>\n",
       "      <td>United States (USA) [P] [Q] [R] [Z]</td>\n",
       "      <td>26</td>\n",
       "      <td>976</td>\n",
       "      <td>757</td>\n",
       "      <td>666</td>\n",
       "      <td>2399</td>\n",
       "      <td>22</td>\n",
       "      <td>96</td>\n",
       "      <td>102</td>\n",
       "      <td>84</td>\n",
       "      <td>282</td>\n",
       "      <td>48</td>\n",
       "      <td>1072</td>\n",
       "      <td>859</td>\n",
       "      <td>750</td>\n",
       "      <td>2681</td>\n",
       "    </tr>\n",
       "  </tbody>\n",
       "</table>\n",
       "</div>"
      ],
      "text/plain": [
       "                                     № Summer  01 !  02 !  03 !  Total  \\\n",
       "United States (USA) [P] [Q] [R] [Z]        26   976   757   666   2399   \n",
       "\n",
       "                                     № Winter  01 !.1  02 !.1  03 !.1  \\\n",
       "United States (USA) [P] [Q] [R] [Z]        22      96     102      84   \n",
       "\n",
       "                                     Total.1  № Games  01 !.2  02 !.2  03 !.2  \\\n",
       "United States (USA) [P] [Q] [R] [Z]      282       48    1072     859     750   \n",
       "\n",
       "                                     Combined total  \n",
       "United States (USA) [P] [Q] [R] [Z]            2681  "
      ]
     },
     "execution_count": 237,
     "metadata": {},
     "output_type": "execute_result"
    }
   ],
   "source": [
    "# return the data of the country that got the max no of medals in summer and name od the country\n",
    "\n",
    "a=df[df['Total'].max() == df['Total']]\n",
    "a\n"
   ]
  },
  {
   "cell_type": "code",
   "execution_count": 238,
   "metadata": {},
   "outputs": [
    {
     "data": {
      "text/plain": [
       "'United States\\xa0(USA) [P] [Q] [R] [Z]'"
      ]
     },
     "execution_count": 238,
     "metadata": {},
     "output_type": "execute_result"
    }
   ],
   "source": [
    "a.index[0]"
   ]
  },
  {
   "cell_type": "code",
   "execution_count": 241,
   "metadata": {},
   "outputs": [
    {
     "data": {
      "text/plain": [
       "'United States\\xa0(USA) [P] [Q] [R] [Z]'"
      ]
     },
     "execution_count": 241,
     "metadata": {},
     "output_type": "execute_result"
    }
   ],
   "source": [
    "#name the country that got max medals overall\n",
    "df[df['Combined total'].max()==df['Combined total']].index[0]"
   ]
  },
  {
   "cell_type": "code",
   "execution_count": 267,
   "metadata": {},
   "outputs": [],
   "source": [
    "a = pd.read_csv('example.csv',index_col=0,skiprows=0)"
   ]
  },
  {
   "cell_type": "code",
   "execution_count": 268,
   "metadata": {},
   "outputs": [
    {
     "data": {
      "text/html": [
       "<div>\n",
       "<style scoped>\n",
       "    .dataframe tbody tr th:only-of-type {\n",
       "        vertical-align: middle;\n",
       "    }\n",
       "\n",
       "    .dataframe tbody tr th {\n",
       "        vertical-align: top;\n",
       "    }\n",
       "\n",
       "    .dataframe thead th {\n",
       "        text-align: right;\n",
       "    }\n",
       "</style>\n",
       "<table border=\"1\" class=\"dataframe\">\n",
       "  <thead>\n",
       "    <tr style=\"text-align: right;\">\n",
       "      <th></th>\n",
       "      <th>last_name</th>\n",
       "      <th>roll</th>\n",
       "      <th>address</th>\n",
       "    </tr>\n",
       "    <tr>\n",
       "      <th>first_name</th>\n",
       "      <th></th>\n",
       "      <th></th>\n",
       "      <th></th>\n",
       "    </tr>\n",
       "  </thead>\n",
       "  <tbody>\n",
       "    <tr>\n",
       "      <td>venkatesh</td>\n",
       "      <td>yekkanti</td>\n",
       "      <td>1</td>\n",
       "      <td>guntur</td>\n",
       "    </tr>\n",
       "    <tr>\n",
       "      <td>suresh</td>\n",
       "      <td>kakarla</td>\n",
       "      <td>2</td>\n",
       "      <td>adilabad</td>\n",
       "    </tr>\n",
       "    <tr>\n",
       "      <td>naresh</td>\n",
       "      <td>gunnam</td>\n",
       "      <td>3</td>\n",
       "      <td>vijayawada</td>\n",
       "    </tr>\n",
       "    <tr>\n",
       "      <td>abdul</td>\n",
       "      <td>sk</td>\n",
       "      <td>4</td>\n",
       "      <td>kadapa</td>\n",
       "    </tr>\n",
       "  </tbody>\n",
       "</table>\n",
       "</div>"
      ],
      "text/plain": [
       "           last_name  roll     address\n",
       "first_name                            \n",
       "venkatesh   yekkanti     1      guntur\n",
       "suresh       kakarla     2    adilabad\n",
       "naresh        gunnam     3  vijayawada\n",
       "abdul             sk     4      kadapa"
      ]
     },
     "execution_count": 268,
     "metadata": {},
     "output_type": "execute_result"
    }
   ],
   "source": [
    "a"
   ]
  },
  {
   "cell_type": "code",
   "execution_count": null,
   "metadata": {},
   "outputs": [],
   "source": []
  },
  {
   "cell_type": "code",
   "execution_count": null,
   "metadata": {},
   "outputs": [],
   "source": []
  }
 ],
 "metadata": {
  "kernelspec": {
   "display_name": "Python 3",
   "language": "python",
   "name": "python3"
  },
  "language_info": {
   "codemirror_mode": {
    "name": "ipython",
    "version": 3
   },
   "file_extension": ".py",
   "mimetype": "text/x-python",
   "name": "python",
   "nbconvert_exporter": "python",
   "pygments_lexer": "ipython3",
   "version": "3.7.4"
  }
 },
 "nbformat": 4,
 "nbformat_minor": 2
}
